{
 "cells": [
  {
   "cell_type": "code",
   "execution_count": 6,
   "id": "d5a86fcb",
   "metadata": {},
   "outputs": [],
   "source": [
    "import pandas as pd\n",
    "from sklearn.preprocessing import StandardScaler"
   ]
  },
  {
   "cell_type": "code",
   "execution_count": 7,
   "id": "f2c2b4ac",
   "metadata": {},
   "outputs": [],
   "source": [
    "# Load the dataset\n",
    "sales_data = pd.read_csv(\"C:/Users/Gurinder/Desktop/Brainy Tasks/100_Sales.csv\")"
   ]
  },
  {
   "cell_type": "code",
   "execution_count": 8,
   "id": "4657ed6d",
   "metadata": {},
   "outputs": [],
   "source": [
    "# Selecting only numerical columns for Z-Score and mean-centering\n",
    "numerical_columns = sales_data.select_dtypes(include=['float64', 'int64']).columns\n",
    "numerical_data = sales_data[numerical_columns]"
   ]
  },
  {
   "cell_type": "code",
   "execution_count": 9,
   "id": "58c85ef4",
   "metadata": {},
   "outputs": [],
   "source": [
    "# Handle missing values\n",
    "numerical_data = numerical_data.dropna(axis=1, how='all')  # Drop columns with all NaN values\n",
    "numerical_data = numerical_data.fillna(numerical_data.median())  # Replace remaining NaN with column median"
   ]
  },
  {
   "cell_type": "code",
   "execution_count": 10,
   "id": "723ea56f",
   "metadata": {},
   "outputs": [],
   "source": [
    "# Update numerical_columns after handling missing values\n",
    "numerical_columns = numerical_data.columns  # Update to reflect actual columns in numerical_data"
   ]
  },
  {
   "cell_type": "code",
   "execution_count": 11,
   "id": "b22623e7",
   "metadata": {},
   "outputs": [],
   "source": [
    "# 1. Apply Z-Score Standardization using sklearn\n",
    "scaler = StandardScaler()\n",
    "z_score_scaled = pd.DataFrame(scaler.fit_transform(numerical_data), columns=numerical_columns)\n",
    "z_score_scaled.columns = [f\"{col}_zscore\" for col in z_score_scaled.columns]"
   ]
  },
  {
   "cell_type": "code",
   "execution_count": 12,
   "id": "a58e0e3b",
   "metadata": {},
   "outputs": [],
   "source": [
    "# 2. Apply Mean-Centering\n",
    "mean_centered = numerical_data - numerical_data.mean()\n",
    "mean_centered.columns = [f\"{col}_meancentered\" for col in mean_centered.columns]"
   ]
  },
  {
   "cell_type": "code",
   "execution_count": 13,
   "id": "9790a92d",
   "metadata": {},
   "outputs": [],
   "source": [
    "# Combine results with the original dataset\n",
    "result = pd.concat([sales_data, z_score_scaled, mean_centered], axis=1)"
   ]
  },
  {
   "cell_type": "code",
   "execution_count": 14,
   "id": "75f4e4dd",
   "metadata": {},
   "outputs": [],
   "source": [
    "# Save the result\n",
    "output_file = \"C:/Users/Gurinder/Desktop/Brainy Tasks/ZScore_MeanCentered_Sales.csv\"\n",
    "result.to_csv(output_file, index=False)"
   ]
  },
  {
   "cell_type": "code",
   "execution_count": 15,
   "id": "67c058c7",
   "metadata": {},
   "outputs": [
    {
     "name": "stdout",
     "output_type": "stream",
     "text": [
      "Preview of the Z-Score and Mean-Centered Data:\n",
      "                              Region                Country        Item_Type  \\\n",
      "0              Australia and Oceania                 Tuvalu        Baby Food   \n",
      "1  Central America and the Caribbean                Grenada           Cereal   \n",
      "2                             Europe                 Russia  Office Supplies   \n",
      "3                 Sub_Saharan Africa  Sao Tome and Principe           Fruits   \n",
      "4                 Sub_Saharan Africa                 Rwanda  Office Supplies   \n",
      "\n",
      "  Sales_Channel Order_Priority   Ship_Date  Unit_Cost  Total_Revenue  \\\n",
      "0       Offline              H  27/06/2010     159.42     2533654.00   \n",
      "1        Online              C  15/09/2012     117.11      576782.80   \n",
      "2       Offline              L  05/08/2014     524.96     1158502.59   \n",
      "3        Online              C  07/05/2014       6.92       75591.66   \n",
      "4       Offline              L  02/06/2013     524.96     3296425.02   \n",
      "\n",
      "   Total_Profit  Unnamed: 9  Unnamed: 10  Unit_Cost_zscore  \\\n",
      "0     951410.50         NaN          NaN         -0.168895   \n",
      "1     248406.36         NaN          NaN         -0.394831   \n",
      "2     224598.75         NaN          NaN          1.783101   \n",
      "3      19525.82         NaN          NaN         -0.983250   \n",
      "4     639077.50         NaN          NaN          1.783101   \n",
      "\n",
      "   Total_Revenue_zscore  Total_Profit_zscore  Unit_Cost_meancentered  \\\n",
      "0              0.798622             1.168192                 -31.628   \n",
      "1             -0.548427            -0.442948                 -73.938   \n",
      "2             -0.147989            -0.497510                 333.912   \n",
      "3             -0.893431            -0.967494                -184.128   \n",
      "4              1.323690             0.452390                 333.912   \n",
      "\n",
      "   Total_Revenue_meancentered  Total_Profit_meancentered  \n",
      "0                1.160166e+06                 509728.516  \n",
      "1               -7.967049e+05                -193275.624  \n",
      "2               -2.149851e+05                -217083.234  \n",
      "3               -1.297896e+06                -422156.164  \n",
      "4                1.922937e+06                 197395.516  \n"
     ]
    }
   ],
   "source": [
    "# Show the first 5 rows of the result\n",
    "print(\"Preview of the Z-Score and Mean-Centered Data:\")\n",
    "print(result.head())"
   ]
  },
  {
   "cell_type": "code",
   "execution_count": 16,
   "id": "34c7a4b3",
   "metadata": {},
   "outputs": [
    {
     "name": "stdout",
     "output_type": "stream",
     "text": [
      "Z-Score Standardization and Mean-Centering completed! File saved to C:/Users/Gurinder/Desktop/Brainy Tasks/ZScore_MeanCentered_Sales.csv.\n"
     ]
    }
   ],
   "source": [
    "print(f\"Z-Score Standardization and Mean-Centering completed! File saved to {output_file}.\")"
   ]
  },
  {
   "cell_type": "code",
   "execution_count": null,
   "id": "eec7b78e",
   "metadata": {},
   "outputs": [],
   "source": []
  }
 ],
 "metadata": {
  "kernelspec": {
   "display_name": "Python 3 (ipykernel)",
   "language": "python",
   "name": "python3"
  },
  "language_info": {
   "codemirror_mode": {
    "name": "ipython",
    "version": 3
   },
   "file_extension": ".py",
   "mimetype": "text/x-python",
   "name": "python",
   "nbconvert_exporter": "python",
   "pygments_lexer": "ipython3",
   "version": "3.11.5"
  }
 },
 "nbformat": 4,
 "nbformat_minor": 5
}
