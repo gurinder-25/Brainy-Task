{
 "cells": [
  {
   "cell_type": "code",
   "execution_count": 11,
   "id": "08e264f7",
   "metadata": {},
   "outputs": [],
   "source": [
    "import pandas as pd\n",
    "import numpy as np\n",
    "from sklearn.preprocessing import MinMaxScaler, MaxAbsScaler, StandardScaler, RobustScaler, normalize\n",
    "import matplotlib.pyplot as plt"
   ]
  },
  {
   "cell_type": "code",
   "execution_count": 12,
   "id": "dc223d01",
   "metadata": {},
   "outputs": [],
   "source": [
    "sales_data = pd.read_csv(\"C:/Users/Gurinder/Desktop/Brainy Tasks/100_Sales.csv\")"
   ]
  },
  {
   "cell_type": "code",
   "execution_count": 13,
   "id": "5b91461f",
   "metadata": {},
   "outputs": [
    {
     "data": {
      "text/html": [
       "<div>\n",
       "<style scoped>\n",
       "    .dataframe tbody tr th:only-of-type {\n",
       "        vertical-align: middle;\n",
       "    }\n",
       "\n",
       "    .dataframe tbody tr th {\n",
       "        vertical-align: top;\n",
       "    }\n",
       "\n",
       "    .dataframe thead th {\n",
       "        text-align: right;\n",
       "    }\n",
       "</style>\n",
       "<table border=\"1\" class=\"dataframe\">\n",
       "  <thead>\n",
       "    <tr style=\"text-align: right;\">\n",
       "      <th></th>\n",
       "      <th>Region</th>\n",
       "      <th>Country</th>\n",
       "      <th>Item_Type</th>\n",
       "      <th>Sales_Channel</th>\n",
       "      <th>Order_Priority</th>\n",
       "      <th>Ship_Date</th>\n",
       "      <th>Unit_Cost</th>\n",
       "      <th>Total_Revenue</th>\n",
       "      <th>Total_Profit</th>\n",
       "      <th>Unnamed: 9</th>\n",
       "      <th>Unnamed: 10</th>\n",
       "    </tr>\n",
       "  </thead>\n",
       "  <tbody>\n",
       "    <tr>\n",
       "      <th>0</th>\n",
       "      <td>Australia and Oceania</td>\n",
       "      <td>Tuvalu</td>\n",
       "      <td>Baby Food</td>\n",
       "      <td>Offline</td>\n",
       "      <td>H</td>\n",
       "      <td>27/06/2010</td>\n",
       "      <td>159.42</td>\n",
       "      <td>2533654.00</td>\n",
       "      <td>951410.50</td>\n",
       "      <td>NaN</td>\n",
       "      <td>NaN</td>\n",
       "    </tr>\n",
       "    <tr>\n",
       "      <th>1</th>\n",
       "      <td>Central America and the Caribbean</td>\n",
       "      <td>Grenada</td>\n",
       "      <td>Cereal</td>\n",
       "      <td>Online</td>\n",
       "      <td>C</td>\n",
       "      <td>15/09/2012</td>\n",
       "      <td>117.11</td>\n",
       "      <td>576782.80</td>\n",
       "      <td>248406.36</td>\n",
       "      <td>NaN</td>\n",
       "      <td>NaN</td>\n",
       "    </tr>\n",
       "    <tr>\n",
       "      <th>2</th>\n",
       "      <td>Europe</td>\n",
       "      <td>Russia</td>\n",
       "      <td>Office Supplies</td>\n",
       "      <td>Offline</td>\n",
       "      <td>L</td>\n",
       "      <td>05/08/2014</td>\n",
       "      <td>524.96</td>\n",
       "      <td>1158502.59</td>\n",
       "      <td>224598.75</td>\n",
       "      <td>NaN</td>\n",
       "      <td>NaN</td>\n",
       "    </tr>\n",
       "    <tr>\n",
       "      <th>3</th>\n",
       "      <td>Sub_Saharan Africa</td>\n",
       "      <td>Sao Tome and Principe</td>\n",
       "      <td>Fruits</td>\n",
       "      <td>Online</td>\n",
       "      <td>C</td>\n",
       "      <td>07/05/2014</td>\n",
       "      <td>6.92</td>\n",
       "      <td>75591.66</td>\n",
       "      <td>19525.82</td>\n",
       "      <td>NaN</td>\n",
       "      <td>NaN</td>\n",
       "    </tr>\n",
       "    <tr>\n",
       "      <th>4</th>\n",
       "      <td>Sub_Saharan Africa</td>\n",
       "      <td>Rwanda</td>\n",
       "      <td>Office Supplies</td>\n",
       "      <td>Offline</td>\n",
       "      <td>L</td>\n",
       "      <td>02/06/2013</td>\n",
       "      <td>524.96</td>\n",
       "      <td>3296425.02</td>\n",
       "      <td>639077.50</td>\n",
       "      <td>NaN</td>\n",
       "      <td>NaN</td>\n",
       "    </tr>\n",
       "  </tbody>\n",
       "</table>\n",
       "</div>"
      ],
      "text/plain": [
       "                              Region                Country        Item_Type  \\\n",
       "0              Australia and Oceania                 Tuvalu        Baby Food   \n",
       "1  Central America and the Caribbean                Grenada           Cereal   \n",
       "2                             Europe                 Russia  Office Supplies   \n",
       "3                 Sub_Saharan Africa  Sao Tome and Principe           Fruits   \n",
       "4                 Sub_Saharan Africa                 Rwanda  Office Supplies   \n",
       "\n",
       "  Sales_Channel Order_Priority   Ship_Date  Unit_Cost  Total_Revenue  \\\n",
       "0       Offline              H  27/06/2010     159.42     2533654.00   \n",
       "1        Online              C  15/09/2012     117.11      576782.80   \n",
       "2       Offline              L  05/08/2014     524.96     1158502.59   \n",
       "3        Online              C  07/05/2014       6.92       75591.66   \n",
       "4       Offline              L  02/06/2013     524.96     3296425.02   \n",
       "\n",
       "   Total_Profit  Unnamed: 9  Unnamed: 10  \n",
       "0     951410.50         NaN          NaN  \n",
       "1     248406.36         NaN          NaN  \n",
       "2     224598.75         NaN          NaN  \n",
       "3      19525.82         NaN          NaN  \n",
       "4     639077.50         NaN          NaN  "
      ]
     },
     "execution_count": 13,
     "metadata": {},
     "output_type": "execute_result"
    }
   ],
   "source": [
    "sales_data.head()"
   ]
  },
  {
   "cell_type": "code",
   "execution_count": 24,
   "id": "20f1a4fa",
   "metadata": {},
   "outputs": [
    {
     "name": "stdout",
     "output_type": "stream",
     "text": [
      "Normalization completed! Normalized dataset saved to C:/Users/Gurinder/Desktop/Brainy Tasks/Normalized_100_Sales.csv.\n"
     ]
    }
   ],
   "source": [
    "import pandas as pd\n",
    "import numpy as np\n",
    "from sklearn.preprocessing import MinMaxScaler, MaxAbsScaler, RobustScaler, normalize\n"
   ]
  },
  {
   "cell_type": "code",
   "execution_count": 35,
   "id": "ba81e922",
   "metadata": {},
   "outputs": [],
   "source": [
    "# Load the dataset\n",
    "sales_data = pd.read_csv(\"C:/Users/Gurinder/Desktop/Brainy Tasks/100_Sales.csv\")"
   ]
  },
  {
   "cell_type": "code",
   "execution_count": 36,
   "id": "d085a032",
   "metadata": {},
   "outputs": [
    {
     "data": {
      "text/html": [
       "<div>\n",
       "<style scoped>\n",
       "    .dataframe tbody tr th:only-of-type {\n",
       "        vertical-align: middle;\n",
       "    }\n",
       "\n",
       "    .dataframe tbody tr th {\n",
       "        vertical-align: top;\n",
       "    }\n",
       "\n",
       "    .dataframe thead th {\n",
       "        text-align: right;\n",
       "    }\n",
       "</style>\n",
       "<table border=\"1\" class=\"dataframe\">\n",
       "  <thead>\n",
       "    <tr style=\"text-align: right;\">\n",
       "      <th></th>\n",
       "      <th>Region</th>\n",
       "      <th>Country</th>\n",
       "      <th>Item_Type</th>\n",
       "      <th>Sales_Channel</th>\n",
       "      <th>Order_Priority</th>\n",
       "      <th>Ship_Date</th>\n",
       "      <th>Unit_Cost</th>\n",
       "      <th>Total_Revenue</th>\n",
       "      <th>Total_Profit</th>\n",
       "      <th>Unnamed: 9</th>\n",
       "      <th>Unnamed: 10</th>\n",
       "    </tr>\n",
       "  </thead>\n",
       "  <tbody>\n",
       "    <tr>\n",
       "      <th>0</th>\n",
       "      <td>Australia and Oceania</td>\n",
       "      <td>Tuvalu</td>\n",
       "      <td>Baby Food</td>\n",
       "      <td>Offline</td>\n",
       "      <td>H</td>\n",
       "      <td>27/06/2010</td>\n",
       "      <td>159.42</td>\n",
       "      <td>2533654.00</td>\n",
       "      <td>951410.50</td>\n",
       "      <td>NaN</td>\n",
       "      <td>NaN</td>\n",
       "    </tr>\n",
       "    <tr>\n",
       "      <th>1</th>\n",
       "      <td>Central America and the Caribbean</td>\n",
       "      <td>Grenada</td>\n",
       "      <td>Cereal</td>\n",
       "      <td>Online</td>\n",
       "      <td>C</td>\n",
       "      <td>15/09/2012</td>\n",
       "      <td>117.11</td>\n",
       "      <td>576782.80</td>\n",
       "      <td>248406.36</td>\n",
       "      <td>NaN</td>\n",
       "      <td>NaN</td>\n",
       "    </tr>\n",
       "    <tr>\n",
       "      <th>2</th>\n",
       "      <td>Europe</td>\n",
       "      <td>Russia</td>\n",
       "      <td>Office Supplies</td>\n",
       "      <td>Offline</td>\n",
       "      <td>L</td>\n",
       "      <td>05/08/2014</td>\n",
       "      <td>524.96</td>\n",
       "      <td>1158502.59</td>\n",
       "      <td>224598.75</td>\n",
       "      <td>NaN</td>\n",
       "      <td>NaN</td>\n",
       "    </tr>\n",
       "    <tr>\n",
       "      <th>3</th>\n",
       "      <td>Sub_Saharan Africa</td>\n",
       "      <td>Sao Tome and Principe</td>\n",
       "      <td>Fruits</td>\n",
       "      <td>Online</td>\n",
       "      <td>C</td>\n",
       "      <td>07/05/2014</td>\n",
       "      <td>6.92</td>\n",
       "      <td>75591.66</td>\n",
       "      <td>19525.82</td>\n",
       "      <td>NaN</td>\n",
       "      <td>NaN</td>\n",
       "    </tr>\n",
       "    <tr>\n",
       "      <th>4</th>\n",
       "      <td>Sub_Saharan Africa</td>\n",
       "      <td>Rwanda</td>\n",
       "      <td>Office Supplies</td>\n",
       "      <td>Offline</td>\n",
       "      <td>L</td>\n",
       "      <td>02/06/2013</td>\n",
       "      <td>524.96</td>\n",
       "      <td>3296425.02</td>\n",
       "      <td>639077.50</td>\n",
       "      <td>NaN</td>\n",
       "      <td>NaN</td>\n",
       "    </tr>\n",
       "  </tbody>\n",
       "</table>\n",
       "</div>"
      ],
      "text/plain": [
       "                              Region                Country        Item_Type  \\\n",
       "0              Australia and Oceania                 Tuvalu        Baby Food   \n",
       "1  Central America and the Caribbean                Grenada           Cereal   \n",
       "2                             Europe                 Russia  Office Supplies   \n",
       "3                 Sub_Saharan Africa  Sao Tome and Principe           Fruits   \n",
       "4                 Sub_Saharan Africa                 Rwanda  Office Supplies   \n",
       "\n",
       "  Sales_Channel Order_Priority   Ship_Date  Unit_Cost  Total_Revenue  \\\n",
       "0       Offline              H  27/06/2010     159.42     2533654.00   \n",
       "1        Online              C  15/09/2012     117.11      576782.80   \n",
       "2       Offline              L  05/08/2014     524.96     1158502.59   \n",
       "3        Online              C  07/05/2014       6.92       75591.66   \n",
       "4       Offline              L  02/06/2013     524.96     3296425.02   \n",
       "\n",
       "   Total_Profit  Unnamed: 9  Unnamed: 10  \n",
       "0     951410.50         NaN          NaN  \n",
       "1     248406.36         NaN          NaN  \n",
       "2     224598.75         NaN          NaN  \n",
       "3      19525.82         NaN          NaN  \n",
       "4     639077.50         NaN          NaN  "
      ]
     },
     "execution_count": 36,
     "metadata": {},
     "output_type": "execute_result"
    }
   ],
   "source": [
    "sales_data.head()"
   ]
  },
  {
   "cell_type": "code",
   "execution_count": 37,
   "id": "61af4a0b",
   "metadata": {},
   "outputs": [
    {
     "name": "stdout",
     "output_type": "stream",
     "text": [
      "<class 'pandas.core.frame.DataFrame'>\n",
      "RangeIndex: 100 entries, 0 to 99\n",
      "Data columns (total 11 columns):\n",
      " #   Column          Non-Null Count  Dtype  \n",
      "---  ------          --------------  -----  \n",
      " 0   Region          100 non-null    object \n",
      " 1   Country         100 non-null    object \n",
      " 2   Item_Type       100 non-null    object \n",
      " 3   Sales_Channel   100 non-null    object \n",
      " 4   Order_Priority  100 non-null    object \n",
      " 5   Ship_Date       100 non-null    object \n",
      " 6   Unit_Cost       100 non-null    float64\n",
      " 7   Total_Revenue   100 non-null    float64\n",
      " 8   Total_Profit    100 non-null    float64\n",
      " 9   Unnamed: 9      0 non-null      float64\n",
      " 10  Unnamed: 10     0 non-null      float64\n",
      "dtypes: float64(5), object(6)\n",
      "memory usage: 8.7+ KB\n"
     ]
    }
   ],
   "source": [
    "sales_data.info()"
   ]
  },
  {
   "cell_type": "code",
   "execution_count": 38,
   "id": "e551b39d",
   "metadata": {},
   "outputs": [
    {
     "data": {
      "text/plain": [
       "Region              0\n",
       "Country             0\n",
       "Item_Type           0\n",
       "Sales_Channel       0\n",
       "Order_Priority      0\n",
       "Ship_Date           0\n",
       "Unit_Cost           0\n",
       "Total_Revenue       0\n",
       "Total_Profit        0\n",
       "Unnamed: 9        100\n",
       "Unnamed: 10       100\n",
       "dtype: int64"
      ]
     },
     "execution_count": 38,
     "metadata": {},
     "output_type": "execute_result"
    }
   ],
   "source": [
    "sales_data.isnull().sum()"
   ]
  },
  {
   "cell_type": "code",
   "execution_count": 26,
   "id": "92ffb09c",
   "metadata": {},
   "outputs": [],
   "source": [
    "# Selecting only numerical columns for normalization\n",
    "numerical_columns = sales_data.select_dtypes(include=['float64', 'int64']).columns\n",
    "numerical_data = sales_data[numerical_columns]"
   ]
  },
  {
   "cell_type": "code",
   "execution_count": 27,
   "id": "d533b51b",
   "metadata": {},
   "outputs": [],
   "source": [
    "# Handle missing values\n",
    "numerical_data = numerical_data.dropna(axis=1, how='all')  # Drop columns with all NaN values\n",
    "numerical_data = numerical_data.fillna(numerical_data.median())  # Replace remaining NaN with column median"
   ]
  },
  {
   "cell_type": "code",
   "execution_count": 28,
   "id": "0251069f",
   "metadata": {},
   "outputs": [],
   "source": [
    "# 1. Min-Max Scaling\n",
    "min_max_scaler = MinMaxScaler()\n",
    "min_max_scaled = pd.DataFrame(min_max_scaler.fit_transform(numerical_data), columns=numerical_data.columns)\n",
    "min_max_scaled.columns = [f\"{col}_minmax\" for col in min_max_scaled.columns]"
   ]
  },
  {
   "cell_type": "code",
   "execution_count": 29,
   "id": "d464a317",
   "metadata": {},
   "outputs": [],
   "source": [
    "# 2. Max Abs Scaling\n",
    "max_abs_scaler = MaxAbsScaler()\n",
    "max_abs_scaled = pd.DataFrame(max_abs_scaler.fit_transform(numerical_data), columns=numerical_data.columns)\n",
    "max_abs_scaled.columns = [f\"{col}_maxabs\" for col in max_abs_scaled.columns]"
   ]
  },
  {
   "cell_type": "code",
   "execution_count": 30,
   "id": "1b00c4e3",
   "metadata": {},
   "outputs": [],
   "source": [
    "# 3. Robust Scaling\n",
    "robust_scaler = RobustScaler()\n",
    "robust_scaled = pd.DataFrame(robust_scaler.fit_transform(numerical_data), columns=numerical_data.columns)\n",
    "robust_scaled.columns = [f\"{col}_robust\" for col in robust_scaled.columns]"
   ]
  },
  {
   "cell_type": "code",
   "execution_count": 31,
   "id": "a6458e1c",
   "metadata": {},
   "outputs": [],
   "source": [
    "# 4. L2 Normalization\n",
    "l2_normalized = pd.DataFrame(normalize(numerical_data, norm='l2'), columns=numerical_data.columns)\n",
    "l2_normalized.columns = [f\"{col}_l2\" for col in l2_normalized.columns]"
   ]
  },
  {
   "cell_type": "code",
   "execution_count": 32,
   "id": "7c93b449",
   "metadata": {},
   "outputs": [],
   "source": [
    "# 5. Log Transformation (log1p for handling zero values)\n",
    "log_transformed = pd.DataFrame(np.log1p(numerical_data), columns=numerical_data.columns)\n",
    "log_transformed.columns = [f\"{col}_log\" for col in log_transformed.columns]"
   ]
  },
  {
   "cell_type": "code",
   "execution_count": 33,
   "id": "d2f8b147",
   "metadata": {},
   "outputs": [],
   "source": [
    "# Combine all normalizations into one dataframe\n",
    "normalized_data = pd.concat([sales_data, min_max_scaled, max_abs_scaled, robust_scaled, l2_normalized, log_transformed], axis=1)"
   ]
  },
  {
   "cell_type": "code",
   "execution_count": 39,
   "id": "08c2522e",
   "metadata": {},
   "outputs": [
    {
     "name": "stdout",
     "output_type": "stream",
     "text": [
      "Preview of the Normalized Data:\n",
      "                              Region                Country        Item_Type  \\\n",
      "0              Australia and Oceania                 Tuvalu        Baby Food   \n",
      "1  Central America and the Caribbean                Grenada           Cereal   \n",
      "2                             Europe                 Russia  Office Supplies   \n",
      "3                 Sub_Saharan Africa  Sao Tome and Principe           Fruits   \n",
      "4                 Sub_Saharan Africa                 Rwanda  Office Supplies   \n",
      "\n",
      "  Sales_Channel Order_Priority   Ship_Date  Unit_Cost  Total_Revenue  \\\n",
      "0       Offline              H  27/06/2010     159.42     2533654.00   \n",
      "1        Online              C  15/09/2012     117.11      576782.80   \n",
      "2       Offline              L  05/08/2014     524.96     1158502.59   \n",
      "3        Online              C  07/05/2014       6.92       75591.66   \n",
      "4       Offline              L  02/06/2013     524.96     3296425.02   \n",
      "\n",
      "   Total_Profit  Unnamed: 9  ...  Total_Profit_maxabs  Unit_Cost_robust  \\\n",
      "0     951410.50         NaN  ...             0.553171          0.229219   \n",
      "1     248406.36         NaN  ...             0.144429          0.043233   \n",
      "2     224598.75         NaN  ...             0.130587          1.836059   \n",
      "3      19525.82         NaN  ...             0.011353         -0.441140   \n",
      "4     639077.50         NaN  ...             0.371574          1.836059   \n",
      "\n",
      "   Total_Revenue_robust  Total_Profit_robust  Unit_Cost_l2  Total_Revenue_l2  \\\n",
      "0              0.916646             1.284334      0.000059          0.936172   \n",
      "1             -0.090325            -0.082354      0.000186          0.918444   \n",
      "2              0.209017            -0.128638      0.000445          0.981721   \n",
      "3             -0.348230            -0.527313      0.000089          0.968221   \n",
      "4              1.309154             0.677137      0.000156          0.981721   \n",
      "\n",
      "   Total_Profit_l2  Unit_Cost_log  Total_Revenue_log  Total_Profit_log  \n",
      "0         0.351541       5.077795          14.745173         13.765702  \n",
      "1         0.395551       4.771616          13.265223         12.422825  \n",
      "2         0.190326       6.265225          13.962640         12.322075  \n",
      "3         0.250098       2.069391          11.233114          9.879544  \n",
      "4         0.190326       6.265225          15.008349         13.367783  \n",
      "\n",
      "[5 rows x 26 columns]\n",
      "Normalization completed! Normalized dataset saved to C:/Users/Gurinder/Desktop/Brainy Tasks/Normalized_100_Sales.csv.\n"
     ]
    }
   ],
   "source": [
    "# Save the normalized dataset\n",
    "output_file = \"C:/Users/Gurinder/Desktop/Brainy Tasks/Normalized_100_Sales.csv\"\n",
    "normalized_data.to_csv(output_file, index=False)\n",
    "\n",
    "print(\"Preview of the Normalized Data:\")\n",
    "print(normalized_data.head())"
   ]
  },
  {
   "cell_type": "code",
   "execution_count": 40,
   "id": "0a54b745",
   "metadata": {},
   "outputs": [
    {
     "name": "stdout",
     "output_type": "stream",
     "text": [
      "Normalization completed! Normalized dataset saved to C:/Users/Gurinder/Desktop/Brainy Tasks/Normalized_100_Sales.csv.\n"
     ]
    }
   ],
   "source": [
    "print(f\"Normalization completed! Normalized dataset saved to {output_file}.\")"
   ]
  },
  {
   "cell_type": "code",
   "execution_count": null,
   "id": "cdfaa1c9",
   "metadata": {},
   "outputs": [],
   "source": []
  }
 ],
 "metadata": {
  "kernelspec": {
   "display_name": "Python 3 (ipykernel)",
   "language": "python",
   "name": "python3"
  },
  "language_info": {
   "codemirror_mode": {
    "name": "ipython",
    "version": 3
   },
   "file_extension": ".py",
   "mimetype": "text/x-python",
   "name": "python",
   "nbconvert_exporter": "python",
   "pygments_lexer": "ipython3",
   "version": "3.11.5"
  }
 },
 "nbformat": 4,
 "nbformat_minor": 5
}
