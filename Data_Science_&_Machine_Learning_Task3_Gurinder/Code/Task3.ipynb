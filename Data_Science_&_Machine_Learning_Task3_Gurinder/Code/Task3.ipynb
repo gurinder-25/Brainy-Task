{
 "cells": [
  {
   "cell_type": "code",
   "execution_count": 2,
   "id": "556aa25d",
   "metadata": {},
   "outputs": [],
   "source": [
    "import pandas as pd\n",
    "import numpy as np"
   ]
  },
  {
   "cell_type": "code",
   "execution_count": 3,
   "id": "24a750e9",
   "metadata": {},
   "outputs": [],
   "source": [
    "# Sample Product DataFrame\n",
    "product_data = pd.DataFrame({\n",
    "    'ProductID': [101, 102, 103, 104, 105],\n",
    "    'ProductName': ['ProductA', 'ProductB', 'ProductC', 'ProductD', 'ProductE'],\n",
    "    'Category': ['Electronics', 'Furniture', 'Electronics', 'Furniture', 'Electronics']\n",
    "})\n",
    "\n",
    "# Sample Sales DataFrame\n",
    "sales_data = pd.DataFrame({\n",
    "    'SalesID': [1, 2, 3, 4, 5, 6, 7],\n",
    "    'ProductID': [101, 102, 103, 101, 104, 105, 102],\n",
    "    'CustomerID': [201, 202, 203, 204, 205, 206, 207],\n",
    "    'Date': ['2024-10-01', '2024-10-02', '2024-10-03', '2024-10-04', '2024-10-05', '2024-10-06', '2024-10-07'],\n",
    "    'UnitsSold': [5, 3, 8, 2, 4, 1, 7],\n",
    "    'Revenue': [100, 60, 240, 40, 160, 50, 140]\n",
    "})\n",
    "\n",
    "# Sample Customer DataFrame\n",
    "customer_data = pd.DataFrame({\n",
    "    'CustomerID': [201, 202, 203, 204, 205, 206, 207],\n",
    "    'Region': ['North', 'South', 'East', 'West', 'North', 'South', 'East'],\n",
    "    'CustomerType': ['Regular', 'Premium', 'Regular', 'Premium', 'Regular', 'Regular', 'Premium']\n",
    "})\n",
    "\n",
    "# Sample Discount DataFrame\n",
    "discount_data = pd.DataFrame({\n",
    "    'ProductID': [101, 103, 104],\n",
    "    'Discount': [0.1, 0.15, 0.2],\n",
    "    'StartDate': ['2024-10-01', '2024-10-03', '2024-10-05'],\n",
    "    'EndDate': ['2024-10-10', '2024-10-10', '2024-10-10']\n",
    "})"
   ]
  },
  {
   "cell_type": "code",
   "execution_count": 4,
   "id": "9836c510",
   "metadata": {},
   "outputs": [],
   "source": [
    "# 1. Merging Sales and Product DataFrames\n",
    "merged_sales_product = pd.merge(sales_data, product_data, on='ProductID', how='inner')"
   ]
  },
  {
   "cell_type": "code",
   "execution_count": 5,
   "id": "65212403",
   "metadata": {},
   "outputs": [],
   "source": [
    "# 2. Merging with Customer DataFrame\n",
    "merged_sales_customer = pd.merge(merged_sales_product, customer_data, on='CustomerID', how='inner')"
   ]
  },
  {
   "cell_type": "code",
   "execution_count": 6,
   "id": "0e78b2d3",
   "metadata": {},
   "outputs": [],
   "source": [
    "# 3. Merging with Discount DataFrame to apply discount if applicable\n",
    "merged_sales_discount = pd.merge(merged_sales_customer, discount_data, on='ProductID', how='left')"
   ]
  },
  {
   "cell_type": "code",
   "execution_count": 7,
   "id": "50bf5f50",
   "metadata": {},
   "outputs": [],
   "source": [
    "# 4. Applying discount logic: Check if the sale date falls within the discount period\n",
    "merged_sales_discount['Date'] = pd.to_datetime(merged_sales_discount['Date'])\n",
    "merged_sales_discount['StartDate'] = pd.to_datetime(merged_sales_discount['StartDate'])\n",
    "merged_sales_discount['EndDate'] = pd.to_datetime(merged_sales_discount['EndDate'])\n",
    "merged_sales_discount['DiscountApplied'] = np.where(\n",
    "    (merged_sales_discount['Date'] >= merged_sales_discount['StartDate']) & \n",
    "    (merged_sales_discount['Date'] <= merged_sales_discount['EndDate']),\n",
    "    merged_sales_discount['Discount'],\n",
    "    0\n",
    ")"
   ]
  },
  {
   "cell_type": "code",
   "execution_count": 8,
   "id": "97bd297c",
   "metadata": {},
   "outputs": [],
   "source": [
    "# 5. Calculating total revenue after discount\n",
    "merged_sales_discount['DiscountedRevenue'] = merged_sales_discount['Revenue'] * (1 - merged_sales_discount['DiscountApplied'])"
   ]
  },
  {
   "cell_type": "code",
   "execution_count": 9,
   "id": "6b6d10ee",
   "metadata": {},
   "outputs": [],
   "source": [
    "# 6. Creating new features: Average revenue per unit sold\n",
    "merged_sales_discount['AvgRevenuePerUnit'] = merged_sales_discount['Revenue'] / merged_sales_discount['UnitsSold']"
   ]
  },
  {
   "cell_type": "code",
   "execution_count": 10,
   "id": "24e24693",
   "metadata": {},
   "outputs": [],
   "source": [
    "# 7. Reshaping data: Pivot to see total revenue per product by customer type\n",
    "pivoted_data = merged_sales_discount.pivot_table(\n",
    "    index='ProductName', \n",
    "    columns='CustomerType', \n",
    "    values='DiscountedRevenue', \n",
    "    aggfunc='sum', \n",
    "    fill_value=0\n",
    ")"
   ]
  },
  {
   "cell_type": "code",
   "execution_count": 11,
   "id": "7bdfca97",
   "metadata": {},
   "outputs": [],
   "source": [
    "# 8. Creating a summary of total sales by region\n",
    "sales_by_region = merged_sales_discount.groupby('Region')['DiscountedRevenue'].sum().reset_index()"
   ]
  },
  {
   "cell_type": "code",
   "execution_count": 12,
   "id": "c1359d47",
   "metadata": {},
   "outputs": [
    {
     "name": "stdout",
     "output_type": "stream",
     "text": [
      "Merged Sales Data with Discount Applied:\n",
      "    SalesID  ProductID  CustomerID       Date  UnitsSold  Revenue ProductName  \\\n",
      "0        1        101         201 2024-10-01          5      100    ProductA   \n",
      "1        4        101         204 2024-10-04          2       40    ProductA   \n",
      "2        2        102         202 2024-10-02          3       60    ProductB   \n",
      "3        7        102         207 2024-10-07          7      140    ProductB   \n",
      "4        3        103         203 2024-10-03          8      240    ProductC   \n",
      "5        5        104         205 2024-10-05          4      160    ProductD   \n",
      "6        6        105         206 2024-10-06          1       50    ProductE   \n",
      "\n",
      "      Category Region CustomerType  Discount  StartDate    EndDate  \\\n",
      "0  Electronics  North      Regular      0.10 2024-10-01 2024-10-10   \n",
      "1  Electronics   West      Premium      0.10 2024-10-01 2024-10-10   \n",
      "2    Furniture  South      Premium       NaN        NaT        NaT   \n",
      "3    Furniture   East      Premium       NaN        NaT        NaT   \n",
      "4  Electronics   East      Regular      0.15 2024-10-03 2024-10-10   \n",
      "5    Furniture  North      Regular      0.20 2024-10-05 2024-10-10   \n",
      "6  Electronics  South      Regular       NaN        NaT        NaT   \n",
      "\n",
      "   DiscountApplied  DiscountedRevenue  AvgRevenuePerUnit  \n",
      "0             0.10               90.0               20.0  \n",
      "1             0.10               36.0               20.0  \n",
      "2             0.00               60.0               20.0  \n",
      "3             0.00              140.0               20.0  \n",
      "4             0.15              204.0               30.0  \n",
      "5             0.20              128.0               40.0  \n",
      "6             0.00               50.0               50.0  \n",
      "\n",
      "Pivoted Data - Total Revenue per Product by Customer Type:\n",
      " CustomerType  Premium  Regular\n",
      "ProductName                   \n",
      "ProductA           36       90\n",
      "ProductB          200        0\n",
      "ProductC            0      204\n",
      "ProductD            0      128\n",
      "ProductE            0       50\n",
      "\n",
      "Sales Summary by Region:\n",
      "   Region  DiscountedRevenue\n",
      "0   East              344.0\n",
      "1  North              218.0\n",
      "2  South              110.0\n",
      "3   West               36.0\n"
     ]
    }
   ],
   "source": [
    "# Final DataFrame output\n",
    "print(\"Merged Sales Data with Discount Applied:\\n\", merged_sales_discount)\n",
    "print(\"\\nPivoted Data - Total Revenue per Product by Customer Type:\\n\", pivoted_data)\n",
    "print(\"\\nSales Summary by Region:\\n\", sales_by_region)"
   ]
  },
  {
   "cell_type": "code",
   "execution_count": null,
   "id": "fee86262",
   "metadata": {},
   "outputs": [],
   "source": []
  }
 ],
 "metadata": {
  "kernelspec": {
   "display_name": "Python 3 (ipykernel)",
   "language": "python",
   "name": "python3"
  },
  "language_info": {
   "codemirror_mode": {
    "name": "ipython",
    "version": 3
   },
   "file_extension": ".py",
   "mimetype": "text/x-python",
   "name": "python",
   "nbconvert_exporter": "python",
   "pygments_lexer": "ipython3",
   "version": "3.11.5"
  }
 },
 "nbformat": 4,
 "nbformat_minor": 5
}
