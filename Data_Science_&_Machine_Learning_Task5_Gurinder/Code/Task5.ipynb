{
 "cells": [
  {
   "cell_type": "code",
   "execution_count": 1,
   "id": "c3b7f070",
   "metadata": {},
   "outputs": [
    {
     "name": "stdout",
     "output_type": "stream",
     "text": [
      "Shift              Day  Night  All\n",
      "Gender Department                 \n",
      "Female Finance       1      1    2\n",
      "       IT            0      1    1\n",
      "Male   HR            2      0    2\n",
      "       IT            0      1    1\n",
      "All                  3      3    6\n"
     ]
    }
   ],
   "source": [
    "import pandas as pd\n",
    "\n",
    "# Sample data\n",
    "data = {\n",
    "    \"Gender\": [\"Male\", \"Female\", \"Female\", \"Male\", \"Male\", \"Female\"],\n",
    "    \"Department\": [\"HR\", \"IT\", \"Finance\", \"IT\", \"HR\", \"Finance\"],\n",
    "    \"Shift\": [\"Day\", \"Night\", \"Day\", \"Night\", \"Day\", \"Night\"]\n",
    "}\n",
    "\n",
    "# Create a DataFrame\n",
    "df = pd.DataFrame(data)\n",
    "\n",
    "# Contingency table with multiple categorical variables\n",
    "contingency_table = pd.crosstab([df['Gender'], df['Department']], df['Shift'], margins=True)\n",
    "\n",
    "# Display the contingency table\n",
    "print(contingency_table)\n"
   ]
  },
  {
   "cell_type": "code",
   "execution_count": null,
   "id": "8171c73d",
   "metadata": {},
   "outputs": [],
   "source": []
  }
 ],
 "metadata": {
  "kernelspec": {
   "display_name": "Python 3 (ipykernel)",
   "language": "python",
   "name": "python3"
  },
  "language_info": {
   "codemirror_mode": {
    "name": "ipython",
    "version": 3
   },
   "file_extension": ".py",
   "mimetype": "text/x-python",
   "name": "python",
   "nbconvert_exporter": "python",
   "pygments_lexer": "ipython3",
   "version": "3.11.5"
  }
 },
 "nbformat": 4,
 "nbformat_minor": 5
}
